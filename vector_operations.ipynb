{
  "nbformat": 4,
  "nbformat_minor": 0,
  "metadata": {
    "colab": {
      "provenance": [],
      "include_colab_link": true
    },
    "kernelspec": {
      "name": "python3",
      "display_name": "Python 3"
    }
  },
  "cells": [
    {
      "cell_type": "markdown",
      "metadata": {
        "id": "view-in-github",
        "colab_type": "text"
      },
      "source": [
        "<a href=\"https://colab.research.google.com/github/hpahama/Data_Structures/blob/main/vector_operations.ipynb\" target=\"_parent\"><img src=\"https://colab.research.google.com/assets/colab-badge.svg\" alt=\"Open In Colab\"/></a>"
      ]
    },
    {
      "cell_type": "code",
      "metadata": {
        "id": "DIOI5qP4FRyv"
      },
      "source": [
        "import numpy as np\n",
        "import matplotlib.pyplot as plt"
      ],
      "execution_count": null,
      "outputs": []
    },
    {
      "cell_type": "code",
      "metadata": {
        "id": "qp9lRkhfusMS",
        "colab": {
          "base_uri": "https://localhost:8080/"
        },
        "outputId": "cca6ada1-8e9b-47b1-b14d-e3cd936eaba3"
      },
      "source": [
        "#vector addition and scalar multiplication\n",
        "print(10*np.array([1,2,3]))\n",
        "print(np.array([1,2,3])+np.array([4,5,6]))\n",
        "print((10*np.array([1,2,3])).tolist())"
      ],
      "execution_count": null,
      "outputs": [
        {
          "output_type": "stream",
          "name": "stdout",
          "text": [
            "[10 20 30]\n",
            "[5 7 9]\n",
            "[10, 20, 30]\n"
          ]
        }
      ]
    },
    {
      "cell_type": "code",
      "metadata": {
        "id": "pJRy1uLsD-fJ",
        "colab": {
          "base_uri": "https://localhost:8080/"
        },
        "outputId": "17078821-6982-477c-c96d-7cb443bb56f2"
      },
      "source": [
        "#cosine\n",
        "np.cos(3)"
      ],
      "execution_count": null,
      "outputs": [
        {
          "output_type": "execute_result",
          "data": {
            "text/plain": [
              "-0.9899924966004454"
            ]
          },
          "metadata": {},
          "execution_count": 4
        }
      ]
    },
    {
      "cell_type": "code",
      "metadata": {
        "id": "nHYrbocTvwBh",
        "colab": {
          "base_uri": "https://localhost:8080/"
        },
        "outputId": "afb75dac-8017-4a8a-a5a3-35edc8748f86"
      },
      "source": [
        "#inverse cosine\n",
        "import math\n",
        "math.acos(.5)\n",
        "#convert from radians to degrees\n",
        "math.degrees(math.acos(.5))"
      ],
      "execution_count": null,
      "outputs": [
        {
          "output_type": "execute_result",
          "data": {
            "text/plain": [
              "60.00000000000001"
            ]
          },
          "metadata": {},
          "execution_count": 5
        }
      ]
    },
    {
      "cell_type": "code",
      "metadata": {
        "id": "A0UU2_FFG5nI",
        "colab": {
          "base_uri": "https://localhost:8080/"
        },
        "outputId": "debe4549-6e8e-4bb3-bdc5-2ac078e81063"
      },
      "source": [
        "#length of a vector\n",
        "np.linalg.norm([1,2,3])"
      ],
      "execution_count": null,
      "outputs": [
        {
          "output_type": "execute_result",
          "data": {
            "text/plain": [
              "3.7416573867739413"
            ]
          },
          "metadata": {},
          "execution_count": 6
        }
      ]
    },
    {
      "cell_type": "code",
      "metadata": {
        "id": "usWv7DC2Gpaj",
        "colab": {
          "base_uri": "https://localhost:8080/"
        },
        "outputId": "79eb82f2-ef8e-44ad-a803-7e8e67e13279"
      },
      "source": [
        "#dot product of two vectors\n",
        "np.dot([2,3],[4,5])"
      ],
      "execution_count": null,
      "outputs": [
        {
          "output_type": "execute_result",
          "data": {
            "text/plain": [
              "23"
            ]
          },
          "metadata": {},
          "execution_count": 7
        }
      ]
    },
    {
      "cell_type": "code",
      "source": [
        "def vector_triple(v):\n",
        "  return 3*v"
      ],
      "metadata": {
        "id": "d21OmxJJtaB5"
      },
      "execution_count": null,
      "outputs": []
    },
    {
      "cell_type": "code",
      "metadata": {
        "id": "Oddr07Jdzamf",
        "colab": {
          "base_uri": "https://localhost:8080/"
        },
        "outputId": "a3f4076e-a859-4f2f-fad1-d34ba49c0c30"
      },
      "source": [
        "vector_triple(np.array([2,3]))"
      ],
      "execution_count": null,
      "outputs": [
        {
          "output_type": "execute_result",
          "data": {
            "text/plain": [
              "array([6, 9])"
            ]
          },
          "metadata": {},
          "execution_count": 8
        }
      ]
    },
    {
      "cell_type": "code",
      "metadata": {
        "id": "-PcphwFGxLWW"
      },
      "source": [],
      "execution_count": null,
      "outputs": []
    }
  ]
}